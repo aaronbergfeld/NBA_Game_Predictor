{
 "cells": [
  {
   "cell_type": "code",
   "execution_count": 1,
   "metadata": {},
   "outputs": [],
   "source": [
    "import json\n",
    "import pandas as pd\n",
    "import numpy as np\n",
    "import matplotlib.pyplot as plt\n",
    "from datetime import datetime, timezone\n",
    "import torch\n",
    "from model_definitions import *\n",
    "\n",
    "torch.manual_seed(42)\n",
    "\n",
    "SPORTSBOOKS = ['PointsBet (US)', 'DraftKings']"
   ]
  },
  {
   "cell_type": "code",
   "execution_count": 2,
   "metadata": {},
   "outputs": [
    {
     "name": "stdout",
     "output_type": "stream",
     "text": [
      "              commence_time           home_team              away_team  \\\n",
      "0 2020-12-25 12:10:00-05:00          Miami Heat   New Orleans Pelicans   \n",
      "1 2020-12-25 14:40:00-05:00     Milwaukee Bucks  Golden State Warriors   \n",
      "2 2020-12-25 17:10:00-05:00      Boston Celtics          Brooklyn Nets   \n",
      "3 2020-12-25 20:10:00-05:00  Los Angeles Lakers       Dallas Mavericks   \n",
      "4 2020-12-25 22:40:00-05:00      Denver Nuggets   Los Angeles Clippers   \n",
      "\n",
      "                                          bookmakers  \n",
      "0  [{'key': 'pointsbetus', 'title': 'PointsBet (U...  \n",
      "1  [{'key': 'pointsbetus', 'title': 'PointsBet (U...  \n",
      "2  [{'key': 'pointsbetus', 'title': 'PointsBet (U...  \n",
      "3  [{'key': 'pointsbetus', 'title': 'PointsBet (U...  \n",
      "4  [{'key': 'pointsbetus', 'title': 'PointsBet (U...  \n"
     ]
    }
   ],
   "source": [
    "# Load historical odds data and parse json\n",
    "with open('../data/historical_odds.json', 'r') as f:\n",
    "    data = json.load(f)\n",
    "    \n",
    "# Only keep games from the 2020-21 season onwards\n",
    "data = [x for x in data if datetime.fromisoformat(x['timestamp']) > datetime(2020, 12, 20, tzinfo=timezone.utc)]\n",
    "\n",
    "def contains_sportsbook(bookmakers):\n",
    "    for bookmaker in bookmakers:\n",
    "        if bookmaker['title'] in SPORTSBOOKS:\n",
    "            return True\n",
    "    return False\n",
    "\n",
    "# Extract data for each event\n",
    "odds_data = [x['data'] for x in data]\n",
    "odds_data = [x for x in odds_data]\n",
    "#Flatten the list of lists\n",
    "odds_data = [item for sublist in odds_data for item in sublist]\n",
    "odds_data = [x for x in odds_data if contains_sportsbook(x['bookmakers'])]\n",
    "odds_data = {x['id']: x for x in odds_data}\n",
    "odds_data = list(odds_data.values())\n",
    "\n",
    "# Only keep games with odds from allowed sportsbooks\n",
    "for i in range(len(odds_data)):\n",
    "    odds_data[i]['bookmakers'] = [x for x in odds_data[i]['bookmakers'] if x['title'] in SPORTSBOOKS]\n",
    "    \n",
    "# Convert game data to pandas dataframe\n",
    "odds_data = pd.json_normalize(odds_data)\n",
    "odds_data.drop(columns=['sport_key', 'sport_title', 'id'], inplace=True)\n",
    "odds_data['commence_time'] = pd.to_datetime(odds_data['commence_time'])\n",
    "# Convert commence_time to eastern time\n",
    "odds_data['commence_time'] = odds_data['commence_time'].dt.tz_convert('US/Eastern')\n",
    "print(odds_data.head())"
   ]
  },
  {
   "cell_type": "code",
   "execution_count": 3,
   "metadata": {},
   "outputs": [
    {
     "name": "stderr",
     "output_type": "stream",
     "text": [
      "/tmp/ipykernel_5386/4023921696.py:14: FutureWarning: Setting an item of incompatible dtype is deprecated and will raise in a future error of pandas. Value '22000005' has dtype incompatible with float64, please explicitly cast to a compatible dtype first.\n",
      "  odds_data.at[i, 'GAME_ID'] = game_id.values[0]\n"
     ]
    },
    {
     "name": "stdout",
     "output_type": "stream",
     "text": [
      "4127\n"
     ]
    },
    {
     "name": "stderr",
     "output_type": "stream",
     "text": [
      "/tmp/ipykernel_5386/4023921696.py:41: FutureWarning: Setting an item of incompatible dtype is deprecated and will raise in a future error of pandas. Value 'PointsBet (US)' has dtype incompatible with float64, please explicitly cast to a compatible dtype first.\n",
      "  odds_data.at[i, 'best_home_bookmaker'] = home_odds[0][0]\n",
      "/tmp/ipykernel_5386/4023921696.py:42: FutureWarning: Setting an item of incompatible dtype is deprecated and will raise in a future error of pandas. Value 'DraftKings' has dtype incompatible with float64, please explicitly cast to a compatible dtype first.\n",
      "  odds_data.at[i, 'best_away_bookmaker'] = away_odds[0][0]\n"
     ]
    }
   ],
   "source": [
    "# Find the game id asosiated with each game\n",
    "games = pd.read_csv('../data/games.csv')\n",
    "games['GAME_DATE'] = pd.to_datetime(games['GAME_DATE'])\n",
    "games['GAME_DATE'] = games['GAME_DATE'].dt.date\n",
    "games['GAME_ID'] = games['GAME_ID'].astype(str)\n",
    "odds_data['GAME_DATE'] = odds_data['commence_time'].dt.date\n",
    "odds_data['GAME_ID'] = np.nan\n",
    "\n",
    "# Find the game id for each game\n",
    "for i in range(len(odds_data)):\n",
    "    game = odds_data.iloc[i]\n",
    "    game_id = games[(games['GAME_DATE'] == game['GAME_DATE']) & (games['TEAM_NAME'] == game['home_team'])]['GAME_ID']\n",
    "    if len(game_id) > 0:\n",
    "        odds_data.at[i, 'GAME_ID'] = game_id.values[0]\n",
    "    else:\n",
    "        game_id = games[(games['GAME_DATE'] == game['GAME_DATE']) & (games['TEAM_NAME'] == game['away_team'])]['GAME_ID']\n",
    "        if len(game_id) > 0:\n",
    "            odds_data.at[i, 'GAME_ID'] = game_id.values[0]\n",
    "\n",
    "# Drop games with no game id\n",
    "odds_data.dropna(subset=['GAME_ID'], inplace=True)\n",
    "odds_data['GAME_ID'] = odds_data['GAME_ID'].astype(int)\n",
    "print(len(odds_data))\n",
    "        \n",
    "# Get maximum odds for each outcome for each game\n",
    "odds_data['best_home_odds'] = np.nan\n",
    "odds_data['best_away_odds'] = np.nan\n",
    "odds_data['best_home_bookmaker'] = np.nan\n",
    "odds_data['best_away_bookmaker'] = np.nan\n",
    "\n",
    "for i in range(len(odds_data)):\n",
    "    game = odds_data.iloc[i]\n",
    "    home_team = game['home_team']\n",
    "    away_team = game['away_team']\n",
    "    home_odds = [(bookmaker['title'], bookmaker['markets'][0]['outcomes'][i]['price']) for bookmaker in game['bookmakers'] for i in range(2) if bookmaker['markets'][0]['outcomes'][i]['name'] == home_team]\n",
    "    away_odds = [(bookmaker['title'], bookmaker['markets'][0]['outcomes'][i]['price']) for bookmaker in game['bookmakers'] for i in range(2) if bookmaker['markets'][0]['outcomes'][i]['name'] == away_team]\n",
    "    home_odds.sort(key=lambda x: x[1], reverse=True)\n",
    "    away_odds.sort(key=lambda x: x[1], reverse=True)\n",
    "    odds_data.at[i, 'best_home_odds'] = home_odds[0][1]\n",
    "    odds_data.at[i, 'best_away_odds'] = away_odds[0][1]\n",
    "    odds_data.at[i, 'best_home_bookmaker'] = home_odds[0][0]\n",
    "    odds_data.at[i, 'best_away_bookmaker'] = away_odds[0][0]\n",
    "\n",
    "odds_data.to_csv('../data/odds.csv', index=False)"
   ]
  },
  {
   "cell_type": "code",
   "execution_count": 4,
   "metadata": {},
   "outputs": [],
   "source": [
    "from torch.utils.data import Dataset, DataLoader\n",
    "\n",
    "class GamesDataset(Dataset):\n",
    "    def __init__(self, game_data, player_data, odds_data):\n",
    "        self.games = game_data\n",
    "        self.players = player_data\n",
    "        # self.players = self.players.groupby(['GAME_ID', 'TEAM_ID']).filter(lambda x: len(x) >= 10)\n",
    "        self.odds = odds_data\n",
    "        self.game_ids = self.games['GAME_ID'].unique()\n",
    "        \n",
    "    def __len__(self):\n",
    "        return len(self.game_ids.tolist())\n",
    "\n",
    "    def __getitem__(self, idx):\n",
    "        game_id = self.game_ids[idx]\n",
    "        game = self.games[self.games['GAME_ID'] == game_id]\n",
    "        home_team = game[game['HOME_TEAM'] == 1]\n",
    "        away_team = game[game['HOME_TEAM'] == 0]\n",
    "        home_team_players = self.players[(self.players['GAME_ID'] == game_id) & (self.players['TEAM_ID'] == home_team['TEAM_ID'].values[0])]\n",
    "        away_team_players = self.players[(self.players['GAME_ID'] == game_id) & (self.players['TEAM_ID'] == away_team['TEAM_ID'].values[0])]\n",
    "        # Sort players by seconds played\n",
    "        home_team_players = home_team_players.sort_values(by='SEC', ascending=False)\n",
    "        away_team_players = away_team_players.sort_values(by='SEC', ascending=False)\n",
    "        home_team_players = home_team_players.iloc[:10]\n",
    "        away_team_players = away_team_players.iloc[:10]\n",
    "        # Drop columns that are not needed\n",
    "        home_team_players.drop(columns=['GAME_ID', 'TEAM_ID', 'PLAYER_ID', 'GAME_DATE', 'SEASON'], inplace=True)\n",
    "        away_team_players.drop(columns=['GAME_ID', 'TEAM_ID', 'PLAYER_ID', 'GAME_DATE', 'SEASON'], inplace=True)\n",
    "        # Convert to numpy array\n",
    "        home_team_players = home_team_players.to_numpy()\n",
    "        away_team_players = away_team_players.to_numpy()\n",
    "        input = np.array([home_team_players, away_team_players])\n",
    "        # Convert to tensor\n",
    "        input = torch.from_numpy(input).float()\n",
    "        # Get outcome\n",
    "        label = game['HOME_TEAM_WON'].values[0]\n",
    "        # Get odds\n",
    "        odds = self.odds[self.odds['GAME_ID'] == game['GAME_ID'].values[0]]\n",
    "        home_odds = odds['best_home_odds'].values[0]\n",
    "        away_odds = odds['best_away_odds'].values[0]\n",
    "        return input, label, home_odds, away_odds"
   ]
  },
  {
   "cell_type": "code",
   "execution_count": 5,
   "metadata": {},
   "outputs": [],
   "source": [
    "# Define betting rules to test\n",
    "def uniform_betting(initial_bankroll, bankroll_fraction=0.1, threshold=0):\n",
    "    def rule(bankroll, odds, win_probability):\n",
    "        if abs(win_probability - .5) < threshold:\n",
    "            return 0\n",
    "        return initial_bankroll * bankroll_fraction\n",
    "    return rule\n",
    "\n",
    "def kelly_criterion(kelly_fraction=0.1, threshold=0):\n",
    "    def rule(bankroll, odds, win_probability): \n",
    "        if abs(win_probability - .5) < threshold:\n",
    "            return 0\n",
    "        return bankroll * kelly_fraction * (win_probability * odds - (1 - win_probability)) / odds\n",
    "    return rule"
   ]
  },
  {
   "cell_type": "code",
   "execution_count": 6,
   "metadata": {},
   "outputs": [
    {
     "ename": "RuntimeError",
     "evalue": "Error(s) in loading state_dict for NeuralNetwork:\n\tsize mismatch for player_data_aggregator.conv1.weight: copying a param with shape torch.Size([2, 2, 10, 1]) from checkpoint, the shape in current model is torch.Size([2, 2, 2, 1]).",
     "output_type": "error",
     "traceback": [
      "\u001b[0;31m---------------------------------------------------------------------------\u001b[0m",
      "\u001b[0;31mRuntimeError\u001b[0m                              Traceback (most recent call last)",
      "Cell \u001b[0;32mIn[6], line 64\u001b[0m\n\u001b[1;32m     62\u001b[0m \u001b[38;5;66;03m# Load model\u001b[39;00m\n\u001b[1;32m     63\u001b[0m model \u001b[38;5;241m=\u001b[39m NeuralNetwork(num_players\u001b[38;5;241m=\u001b[39mnum_players, num_features\u001b[38;5;241m=\u001b[39mnum_features, hidden_layers\u001b[38;5;241m=\u001b[39m[\u001b[38;5;241m92\u001b[39m, \u001b[38;5;241m210\u001b[39m])\n\u001b[0;32m---> 64\u001b[0m \u001b[43mmodel\u001b[49m\u001b[38;5;241;43m.\u001b[39;49m\u001b[43mload_state_dict\u001b[49m\u001b[43m(\u001b[49m\u001b[43mtorch\u001b[49m\u001b[38;5;241;43m.\u001b[39;49m\u001b[43mload\u001b[49m\u001b[43m(\u001b[49m\u001b[38;5;124;43m'\u001b[39;49m\u001b[38;5;124;43m../models/modelv1.pth\u001b[39;49m\u001b[38;5;124;43m'\u001b[39;49m\u001b[43m)\u001b[49m\u001b[43m)\u001b[49m\n\u001b[1;32m     65\u001b[0m model\u001b[38;5;241m.\u001b[39meval()\n\u001b[1;32m     67\u001b[0m model_predictions \u001b[38;5;241m=\u001b[39m []\n",
      "File \u001b[0;32m/usr/lib/python3.11/site-packages/torch/nn/modules/module.py:2152\u001b[0m, in \u001b[0;36mModule.load_state_dict\u001b[0;34m(self, state_dict, strict, assign)\u001b[0m\n\u001b[1;32m   2147\u001b[0m         error_msgs\u001b[38;5;241m.\u001b[39minsert(\n\u001b[1;32m   2148\u001b[0m             \u001b[38;5;241m0\u001b[39m, \u001b[38;5;124m'\u001b[39m\u001b[38;5;124mMissing key(s) in state_dict: \u001b[39m\u001b[38;5;132;01m{}\u001b[39;00m\u001b[38;5;124m. \u001b[39m\u001b[38;5;124m'\u001b[39m\u001b[38;5;241m.\u001b[39mformat(\n\u001b[1;32m   2149\u001b[0m                 \u001b[38;5;124m'\u001b[39m\u001b[38;5;124m, \u001b[39m\u001b[38;5;124m'\u001b[39m\u001b[38;5;241m.\u001b[39mjoin(\u001b[38;5;124mf\u001b[39m\u001b[38;5;124m'\u001b[39m\u001b[38;5;124m\"\u001b[39m\u001b[38;5;132;01m{\u001b[39;00mk\u001b[38;5;132;01m}\u001b[39;00m\u001b[38;5;124m\"\u001b[39m\u001b[38;5;124m'\u001b[39m \u001b[38;5;28;01mfor\u001b[39;00m k \u001b[38;5;129;01min\u001b[39;00m missing_keys)))\n\u001b[1;32m   2151\u001b[0m \u001b[38;5;28;01mif\u001b[39;00m \u001b[38;5;28mlen\u001b[39m(error_msgs) \u001b[38;5;241m>\u001b[39m \u001b[38;5;241m0\u001b[39m:\n\u001b[0;32m-> 2152\u001b[0m     \u001b[38;5;28;01mraise\u001b[39;00m \u001b[38;5;167;01mRuntimeError\u001b[39;00m(\u001b[38;5;124m'\u001b[39m\u001b[38;5;124mError(s) in loading state_dict for \u001b[39m\u001b[38;5;132;01m{}\u001b[39;00m\u001b[38;5;124m:\u001b[39m\u001b[38;5;130;01m\\n\u001b[39;00m\u001b[38;5;130;01m\\t\u001b[39;00m\u001b[38;5;132;01m{}\u001b[39;00m\u001b[38;5;124m'\u001b[39m\u001b[38;5;241m.\u001b[39mformat(\n\u001b[1;32m   2153\u001b[0m                        \u001b[38;5;28mself\u001b[39m\u001b[38;5;241m.\u001b[39m\u001b[38;5;18m__class__\u001b[39m\u001b[38;5;241m.\u001b[39m\u001b[38;5;18m__name__\u001b[39m, \u001b[38;5;124m\"\u001b[39m\u001b[38;5;130;01m\\n\u001b[39;00m\u001b[38;5;130;01m\\t\u001b[39;00m\u001b[38;5;124m\"\u001b[39m\u001b[38;5;241m.\u001b[39mjoin(error_msgs)))\n\u001b[1;32m   2154\u001b[0m \u001b[38;5;28;01mreturn\u001b[39;00m _IncompatibleKeys(missing_keys, unexpected_keys)\n",
      "\u001b[0;31mRuntimeError\u001b[0m: Error(s) in loading state_dict for NeuralNetwork:\n\tsize mismatch for player_data_aggregator.conv1.weight: copying a param with shape torch.Size([2, 2, 10, 1]) from checkpoint, the shape in current model is torch.Size([2, 2, 2, 1])."
     ]
    }
   ],
   "source": [
    "\n",
    "player_data = pd.read_csv('../data/rolling_averages.csv')\n",
    "game_data = pd.read_csv('../data/games.csv')\n",
    "odds_data = pd.read_csv('../data/odds.csv')\n",
    "\n",
    "for season in ['2020-2021', '2021-2022', '2022-2023']:\n",
    "    # Drop games that does not have data for both teams\n",
    "    player_data = player_data.groupby('GAME_ID').filter(lambda x: len(x['TEAM_ID'].unique()) == 2)\n",
    "\n",
    "    # only keep games in the 2022-23 regular season\n",
    "    game_data['GAME_DATE'] = pd.to_datetime(game_data['GAME_DATE'])\n",
    "    game_data = game_data[(game_data['SEASON_ID'] >= 22020) & (game_data['SEASON_ID'] < 22023)]\n",
    "    game_data.sort_values(by='GAME_DATE', inplace=True)\n",
    "\n",
    "    # only keep games with odds\n",
    "    game_data = game_data[game_data['GAME_ID'].isin(odds_data['GAME_ID'])]\n",
    "\n",
    "    # only keep games with rolling averages\n",
    "    game_data = game_data[game_data['GAME_ID'].isin(player_data['GAME_ID'])]\n",
    "\n",
    "    dataset = GamesDataset(game_data, player_data, odds_data)\n",
    "    dataloader = DataLoader(dataset, batch_size=1, shuffle=False)\n",
    "\n",
    "    bankroll = 1000\n",
    "    # Define bettring rules to test\n",
    "    hundreth_uniform = uniform_betting(bankroll, bankroll_fraction=0.01)\n",
    "    tenths_uniform = uniform_betting(bankroll, bankroll_fraction=0.1)\n",
    "    tenths_kelly = kelly_criterion(kelly_fraction=0.1)\n",
    "    eighth_kelly = kelly_criterion(kelly_fraction=0.125)\n",
    "    sixth_kelly = kelly_criterion(kelly_fraction=0.166)\n",
    "    tenths_uniform_threshold_1 = uniform_betting(bankroll, bankroll_fraction=0.1, threshold=0.1)\n",
    "    tenths_uniform_threshold_2 = uniform_betting(bankroll, bankroll_fraction=0.1, threshold=0.2)\n",
    "    tenths_uniform_threshold_3 = uniform_betting(bankroll, bankroll_fraction=0.1, threshold=0.3)\n",
    "    eighth_kelly_threshold_1 = kelly_criterion(kelly_fraction=0.125, threshold=0.1)\n",
    "    eighth_kelly_threshold_2 = kelly_criterion(kelly_fraction=0.125, threshold=0.2)\n",
    "    eighth_kelly_threshold_3 = kelly_criterion(kelly_fraction=0.125, threshold=0.3)\n",
    "\n",
    "    betting_rules = []\n",
    "    betting_rules.append(hundreth_uniform)\n",
    "    betting_rules.append(tenths_uniform)\n",
    "    betting_rules.append(tenths_kelly)\n",
    "    betting_rules.append(eighth_kelly)\n",
    "    betting_rules.append(sixth_kelly)\n",
    "    betting_rules.append(tenths_uniform_threshold_1)\n",
    "    betting_rules.append(tenths_uniform_threshold_2)\n",
    "    betting_rules.append(tenths_uniform_threshold_3)\n",
    "    betting_rules.append(eighth_kelly_threshold_1)\n",
    "    betting_rules.append(eighth_kelly_threshold_2)\n",
    "    betting_rules.append(eighth_kelly_threshold_3)\n",
    "\n",
    "    bankroll_history = np.zeros((len(dataset) + 1, len(betting_rules)))\n",
    "    # Set the first row to the initial bankroll\n",
    "    bankroll_history[0, :] = bankroll\n",
    "\n",
    "    odds_history = np.zeros(len(dataset))\n",
    "    bet_history = np.zeros((len(dataset), len(betting_rules)))\n",
    "    win_history = np.zeros(len(dataset))\n",
    "\n",
    "\n",
    "    num_players = dataset[0][0].shape[1]\n",
    "    num_features = dataset[0][0].shape[2]\n",
    "\n",
    "    # Load model\n",
    "    model = NeuralNetwork(num_players=num_players, num_features=num_features, hidden_layers=[92, 210])\n",
    "    model.load_state_dict(torch.load('../models/modelv1.pth'))\n",
    "    model.eval()\n",
    "\n",
    "    model_predictions = []\n",
    "    bookmaker_predictions = []\n",
    "    labels = []\n",
    "    bets_placed = 0\n",
    "    bets_won = 0\n",
    "    for i, (input, label, home_odds, away_odds) in enumerate(dataloader):\n",
    "        output = model(input)\n",
    "        output = output.item()\n",
    "        model_predictions.append(output)\n",
    "        label = label.item()\n",
    "        home_odds = home_odds.item()\n",
    "        away_odds = away_odds.item()\n",
    "        labels.append(label)\n",
    "        if 1/home_odds > .5:\n",
    "            bookmaker_predictions.append(1)\n",
    "        else:\n",
    "            bookmaker_predictions.append(0)\n",
    "        home_prediction = output\n",
    "        away_prediction = 1 - output\n",
    "        # choose the highest positive ev bet\n",
    "        if home_prediction > 1/home_odds:\n",
    "            for j, item in enumerate(betting_rules.items()):\n",
    "                _, rule = item\n",
    "                current_bankroll = bankroll_history[bets_placed, j]\n",
    "                bet = rule(current_bankroll, home_odds, home_prediction)\n",
    "                odds_history[bets_placed] = home_odds\n",
    "                bet_history[bets_placed, j] = bet\n",
    "                new_bankroll = current_bankroll - bet\n",
    "                if label == 1:\n",
    "                    new_bankroll += bet * home_odds\n",
    "                bankroll_history[bets_placed+1, j] = new_bankroll\n",
    "            if label == 1:\n",
    "                bets_won += 1\n",
    "                win_history[bets_placed] = 1\n",
    "            else:\n",
    "                win_history[bets_placed] = 0\n",
    "            bets_placed += 1\n",
    "        elif away_prediction > 1/away_odds:\n",
    "            for j, item in enumerate(betting_rules.items()):\n",
    "                _, rule = item\n",
    "                current_bankroll = bankroll_history[bets_placed, j]\n",
    "                bet = rule(current_bankroll, away_odds, away_prediction)\n",
    "                odds_history[bets_placed] = away_odds\n",
    "                bet_history[bets_placed, j] = bet\n",
    "                new_bankroll = current_bankroll - bet\n",
    "                if label == 0:\n",
    "                    new_bankroll += bet * away_odds\n",
    "                bankroll_history[bets_placed+1, j] = new_bankroll \n",
    "            if label == 0:\n",
    "                bets_won += 1\n",
    "                win_history[bets_placed] = 1\n",
    "            else:\n",
    "                win_history[bets_placed] = 0\n",
    "            bets_placed += 1"
   ]
  },
  {
   "cell_type": "code",
   "execution_count": null,
   "metadata": {},
   "outputs": [
    {
     "data": {
      "image/png": "[encoded data removed]",
      "text/plain": [
       "<Figure size 1200x800 with 1 Axes>"
      ]
     },
     "metadata": {},
     "output_type": "display_data"
    }
   ],
   "source": [
    "def plot_bankroll_histories(bankroll_history, bets_placed, betting_rules):\n",
    "    # Trim unused rows from bankroll history\n",
    "    trimmed_bankroll_history = bankroll_history[:bets_placed+1, :]\n",
    "\n",
    "    # Set up the plot\n",
    "    plt.figure(figsize=(12, 8))\n",
    "\n",
    "    # Plot each bankroll history\n",
    "    for i, title, _ in enumerate(betting_rules.items()):\n",
    "        plt.plot(trimmed_bankroll_history[:, i], label=title)\n",
    "\n",
    "    # Add a legend and show the plot\n",
    "    plt.legend()\n",
    "    plt.show()\n",
    "\n",
    "plot_bankroll_histories(bankroll_history, bets_placed, betting_rules)"
   ]
  },
  {
   "cell_type": "code",
   "execution_count": null,
   "metadata": {},
   "outputs": [],
   "source": [
    "def plot_bankroll_histories(bankroll_history, bets_placed, betting_rules):\n",
    "    # Trim unused rows from bankroll history\n",
    "    trimmed_bankroll_history = bankroll_history[:bets_placed+1, :]\n",
    "\n",
    "    # Set up the plot\n",
    "    plt.figure(figsize=(12, 8))\n",
    "\n",
    "    # Plot each bankroll history\n",
    "    for i, _ in enumerate(betting_rules):\n",
    "        plt.plot(trimmed_bankroll_history[:, i], label=str(i))\n",
    "\n",
    "    # Add a legend and show the plot\n",
    "    plt.legend()\n",
    "    plt.show()\n",
    "\n",
    "plot_bankroll_histories(bankroll_history, bets_placed, betting_rules)"
   ]
  },
  {
   "cell_type": "code",
   "execution_count": null,
   "metadata": {},
   "outputs": [
    {
     "data": {
      "text/plain": [
       "[<matplotlib.lines.Line2D at 0x7fa5546e3a10>]"
      ]
     },
     "execution_count": 47,
     "metadata": {},
     "output_type": "execute_result"
    },
    {
     "data": {
      "image/png": "[encoded data removed]",
      "text/plain": [
       "<Figure size 1200x800 with 1 Axes>"
      ]
     },
     "metadata": {},
     "output_type": "display_data"
    }
   ],
   "source": [
    "# plot bankroll history for a single betting rule\n",
    "plt.figure(figsize=(12, 8))\n",
    "plt.plot(bankroll_history[:, 0])"
   ]
  },
  {
   "cell_type": "code",
   "execution_count": null,
   "metadata": {},
   "outputs": [
    {
     "name": "stdout",
     "output_type": "stream",
     "text": [
      "Model accuracy:  0.6466492602262838\n",
      "Bookmaker accuracy:  0.5456919060052219\n",
      "PCT bets placed:  0.939077458659704\n",
      "PCT bets won:  0.5940685820203893\n",
      "Best performing rule:  4  with bankroll:  8.574937353774844e+23\n"
     ]
    }
   ],
   "source": [
    "model_accuracy = np.sum(np.round(np.array(model_predictions)) == np.array(labels)) / len(labels)\n",
    "bookmaker_accuracy = np.sum(np.array(bookmaker_predictions) == np.array(labels)) / len(labels)\n",
    "pct_bets_placed = bets_placed / len(labels)\n",
    "pct_bets_won = bets_won / bets_placed\n",
    "best_performing_rule = np.argmax(bankroll_history[-1, :])\n",
    "print('Model accuracy: ', model_accuracy)\n",
    "print('Bookmaker accuracy: ', bookmaker_accuracy)\n",
    "print('PCT bets placed: ', pct_bets_placed)\n",
    "print('PCT bets won: ', pct_bets_won)\n",
    "print('Best performing rule: ', best_performing_rule, ' with bankroll: ', bankroll_history[-1, best_performing_rule])"
   ]
  }
 ],
 "metadata": {
  "kernelspec": {
   "display_name": "Python 3",
   "language": "python",
   "name": "python3"
  },
  "language_info": {
   "codemirror_mode": {
    "name": "ipython",
    "version": 3
   },
   "file_extension": ".py",
   "mimetype": "text/x-python",
   "name": "python",
   "nbconvert_exporter": "python",
   "pygments_lexer": "ipython3",
   "version": "3.11.6"
  }
 },
 "nbformat": 4,
 "nbformat_minor": 2
}
