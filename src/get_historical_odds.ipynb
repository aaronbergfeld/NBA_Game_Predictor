{
 "cells": [
  {
   "cell_type": "code",
   "execution_count": 8,
   "metadata": {},
   "outputs": [],
   "source": [
    "import requests\n",
    "import datetime\n",
    "import tqdm\n",
    "import json\n",
    "import pandas as pd\n",
    "\n",
    "API_KEY = \"688ef8fdcefd9958ef01e130bb4e9e33\"\n",
    "BASE_URL = 'https://api.the-odds-api.com/v4/historical/sports/basketball_nba/odds/?regions=us&markets=h2h&apiKey=' + API_KEY"
   ]
  },
  {
   "cell_type": "code",
   "execution_count": 3,
   "metadata": {},
   "outputs": [
    {
     "name": "stderr",
     "output_type": "stream",
     "text": [
      "100%|██████████| 1314/1314 [17:59<00:00,  1.22it/s]\n"
     ]
    }
   ],
   "source": [
    "# # Get historical odds for each day since June 6th 2020\n",
    "# start_date = datetime.datetime.strptime('2020-06-06', '%Y-%m-%d')\n",
    "\n",
    "# # Create a list of all days between start_date and today\n",
    "# date_list = [start_date + datetime.timedelta(days=x) for x in range(0, (datetime.datetime.today() - start_date).days)]\n",
    "\n",
    "# # Create the date strings in ISO8601 format\n",
    "# date_strings = [x.strftime('%Y-%m-%d') + 'T12:00:00Z' for x in date_list]\n",
    "\n",
    "# for date in tqdm.tqdm(date_strings):\n",
    "#     try:\n",
    "#         odds = requests.get(BASE_URL + '&date=' + date).json()\n",
    "#     except:\n",
    "#         continue\n",
    "#     # Append to historical_odds.json\n",
    "#     with open('../data/historical_odds.json', 'a') as outfile:\n",
    "#         json.dump(odds, outfile)\n",
    "#         outfile.write('\\n')"
   ]
  },
  {
   "cell_type": "code",
   "execution_count": 5,
   "metadata": {},
   "outputs": [],
   "source": [
    "# Add a comma to the end of each line except the first and last\n",
    "# with open('../data/historical_odds.json', 'r') as infile:\n",
    "#     lines = infile.readlines()\n",
    "#     for i in range(1, len(lines) - 1):\n",
    "#         lines[i] = lines[i].strip('\\n') + ',\\n'\n",
    "# with open('../data/historical_odds.json', 'w') as outfile:\n",
    "#     outfile.writelines(lines)"
   ]
  },
  {
   "cell_type": "code",
   "execution_count": 7,
   "metadata": {},
   "outputs": [],
   "source": [
    "# Check if historical_odds.json is valid JSON\n",
    "with open('../data/historical_odds.json', 'r') as infile:\n",
    "    try:\n",
    "        json.load(infile)\n",
    "    except ValueError:\n",
    "        print('historical_odds.json is not valid JSON')"
   ]
  }
 ],
 "metadata": {
  "kernelspec": {
   "display_name": "Python 3",
   "language": "python",
   "name": "python3"
  },
  "language_info": {
   "codemirror_mode": {
    "name": "ipython",
    "version": 3
   },
   "file_extension": ".py",
   "mimetype": "text/x-python",
   "name": "python",
   "nbconvert_exporter": "python",
   "pygments_lexer": "ipython3",
   "version": "3.11.7"
  }
 },
 "nbformat": 4,
 "nbformat_minor": 2
}
